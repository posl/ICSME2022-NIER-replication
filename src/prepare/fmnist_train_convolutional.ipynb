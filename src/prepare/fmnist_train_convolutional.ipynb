{
 "cells": [
  {
   "cell_type": "code",
   "execution_count": null,
   "metadata": {},
   "outputs": [],
   "source": [
    "import sys\n",
    "sys.path.append('../')"
   ]
  },
  {
   "cell_type": "code",
   "execution_count": null,
   "metadata": {
    "scrolled": true
   },
   "outputs": [],
   "source": [
    "import os\n",
    "import tensorflow as tf\n",
    "import keras\n",
    "from keras import backend as K\n",
    "import numpy as np\n",
    "\n",
    "from models import mnist_convolutional\n",
    "from libdeeppatcher import dataset\n",
    "from libdeeppatcher.types import Dataset"
   ]
  },
  {
   "cell_type": "code",
   "execution_count": null,
   "metadata": {},
   "outputs": [],
   "source": [
    "\"\"\"Initialize environment\n",
    "\"\"\"\n",
    "# for Reproducibility\n",
    "os.environ['PYTHONHASHSEED'] = '0'\n",
    "np.random.seed(7) \n",
    "tf.set_random_seed(7)\n",
    "\n",
    "# GPU configulations\n",
    "session_conf = tf.ConfigProto( \n",
    "    intra_op_parallelism_threads = 1, \n",
    "    inter_op_parallelism_threads = 1)\n",
    "\n",
    "session = tf.Session(graph=tf.get_default_graph(), config=None)\n",
    "K.set_session(session)\n",
    "\n",
    "with tf.Session() as sess:\n",
    "    tf.global_variables_initializer().run()"
   ]
  },
  {
   "cell_type": "code",
   "execution_count": null,
   "metadata": {},
   "outputs": [],
   "source": [
    "\"\"\"Prepare dataset\n",
    "8割を学習データ、残り2割のうち半分を検証用データとして使用\n",
    "\"\"\"\n",
    "_train_dataset, _test_dataset = dataset.load_data('fmnist_conv')\n",
    "\n",
    "train_dataset = Dataset(_train_dataset.data[:48000],\n",
    "                        _train_dataset.label[:48000])\n",
    "\n",
    "val_dataset = Dataset(_train_dataset.data[48000:54000],\n",
    "                      _train_dataset.label[48000:54000])"
   ]
  },
  {
   "cell_type": "code",
   "execution_count": null,
   "metadata": {},
   "outputs": [],
   "source": [
    "\"\"\"Set training parameters\n",
    "\"\"\"\n",
    "batch_size = 128\n",
    "epochs = 5"
   ]
  },
  {
   "cell_type": "code",
   "execution_count": null,
   "metadata": {},
   "outputs": [],
   "source": [
    "\"\"\"Build model\n",
    "\"\"\"\n",
    "model = mnist_convolutional.build_model()"
   ]
  },
  {
   "cell_type": "code",
   "execution_count": null,
   "metadata": {},
   "outputs": [],
   "source": [
    "model.fit(\n",
    "    *train_dataset,\n",
    "    validation_data=(val_dataset.data, val_dataset.label),\n",
    "    batch_size=batch_size,\n",
    "    epochs=epochs,\n",
    "    verbose=1\n",
    ")"
   ]
  },
  {
   "cell_type": "code",
   "execution_count": null,
   "metadata": {},
   "outputs": [],
   "source": [
    "model_name = 'fmnist_convolutional.hdf5'\n",
    "dir_name = '../models/saved/'\n",
    "if not os.path.exists(dir_name):\n",
    "    os.makedirs(dir_name)\n",
    "file_name = dir_name + model_name\n",
    "model.save(file_name)"
   ]
  },
  {
   "cell_type": "code",
   "execution_count": null,
   "metadata": {},
   "outputs": [],
   "source": []
  }
 ],
 "metadata": {
  "kernelspec": {
   "display_name": "Python 3",
   "language": "python",
   "name": "python3"
  },
  "language_info": {
   "codemirror_mode": {
    "name": "ipython",
    "version": 3
   },
   "file_extension": ".py",
   "mimetype": "text/x-python",
   "name": "python",
   "nbconvert_exporter": "python",
   "pygments_lexer": "ipython3",
   "version": "3.7.4"
  }
 },
 "nbformat": 4,
 "nbformat_minor": 4
}
